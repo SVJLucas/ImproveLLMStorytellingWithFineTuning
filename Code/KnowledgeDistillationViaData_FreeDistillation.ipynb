{
  "nbformat": 4,
  "nbformat_minor": 0,
  "metadata": {
    "colab": {
      "provenance": [],
      "mount_file_id": "1QxUR_KMwOOlb0VRqY9z6phg3DNqbE0JZ",
      "authorship_tag": "ABX9TyP4J/B5hymvtvSXd5ymY+el",
      "include_colab_link": true
    },
    "kernelspec": {
      "name": "python3",
      "display_name": "Python 3"
    },
    "language_info": {
      "name": "python"
    }
  },
  "cells": [
    {
      "cell_type": "markdown",
      "metadata": {
        "id": "view-in-github",
        "colab_type": "text"
      },
      "source": [
        "<a href=\"https://colab.research.google.com/github/SVJLucas/ImproveLLMStorytellingWithFineTuning/blob/main/Code/KnowledgeDistillationViaData_FreeDistillation.ipynb\" target=\"_parent\"><img src=\"https://colab.research.google.com/assets/colab-badge.svg\" alt=\"Open In Colab\"/></a>"
      ]
    },
    {
      "cell_type": "markdown",
      "source": [
        "# Knowledge distillation"
      ],
      "metadata": {
        "id": "09Be38_uG_Ub"
      }
    },
    {
      "cell_type": "markdown",
      "source": [
        "To access the Llama-2 70B model, we would need to use the A100 GPU on Colab, which would incur costs. To avoid this, we will use the API for Llama-2 70B provided by Together for this tutorial. At the time of creating this tutorial, **Together offers free credits for the first month of subscription, which are more than sufficient to build the desired dataset.**"
      ],
      "metadata": {
        "id": "7I8KhXqIAZFV"
      }
    },
    {
      "cell_type": "markdown",
      "source": [
        "Although we will use the Together API, the functions and prompts used to create the dataset can be applied to any API for Llama-2 70B (or even the model itself if you prefer to run it on Google Colab using the A100 GPU). The methodology employed also applies to other AI models, which can be used to train and create datasets for smaller models, aligning with one of the purposes of the new Llama-3.1 405B."
      ],
      "metadata": {
        "id": "XnJciJqNDY0L"
      }
    },
    {
      "cell_type": "code",
      "source": [
        "!pip install --upgrade together"
      ],
      "metadata": {
        "colab": {
          "base_uri": "https://localhost:8080/"
        },
        "id": "uyrJIGOtIwnT",
        "outputId": "4b56f9a2-ca94-4f04-d03e-453cb989d2b6"
      },
      "execution_count": null,
      "outputs": [
        {
          "output_type": "stream",
          "name": "stdout",
          "text": [
            "Requirement already satisfied: together in /usr/local/lib/python3.10/dist-packages (0.2.10)\n",
            "Requirement already satisfied: pydantic<3.0.0,>=2.5.0 in /usr/local/lib/python3.10/dist-packages (from together) (2.5.2)\n",
            "Requirement already satisfied: requests<3.0.0,>=2.31.0 in /usr/local/lib/python3.10/dist-packages (from together) (2.31.0)\n",
            "Requirement already satisfied: sseclient-py<2.0.0,>=1.7.2 in /usr/local/lib/python3.10/dist-packages (from together) (1.8.0)\n",
            "Requirement already satisfied: tabulate<0.10.0,>=0.9.0 in /usr/local/lib/python3.10/dist-packages (from together) (0.9.0)\n",
            "Requirement already satisfied: tqdm<5.0.0,>=4.66.1 in /usr/local/lib/python3.10/dist-packages (from together) (4.66.1)\n",
            "Requirement already satisfied: typer<0.10.0,>=0.9.0 in /usr/local/lib/python3.10/dist-packages (from together) (0.9.0)\n",
            "Requirement already satisfied: annotated-types>=0.4.0 in /usr/local/lib/python3.10/dist-packages (from pydantic<3.0.0,>=2.5.0->together) (0.6.0)\n",
            "Requirement already satisfied: pydantic-core==2.14.5 in /usr/local/lib/python3.10/dist-packages (from pydantic<3.0.0,>=2.5.0->together) (2.14.5)\n",
            "Requirement already satisfied: typing-extensions>=4.6.1 in /usr/local/lib/python3.10/dist-packages (from pydantic<3.0.0,>=2.5.0->together) (4.9.0)\n",
            "Requirement already satisfied: charset-normalizer<4,>=2 in /usr/local/lib/python3.10/dist-packages (from requests<3.0.0,>=2.31.0->together) (3.3.2)\n",
            "Requirement already satisfied: idna<4,>=2.5 in /usr/local/lib/python3.10/dist-packages (from requests<3.0.0,>=2.31.0->together) (3.6)\n",
            "Requirement already satisfied: urllib3<3,>=1.21.1 in /usr/local/lib/python3.10/dist-packages (from requests<3.0.0,>=2.31.0->together) (2.0.7)\n",
            "Requirement already satisfied: certifi>=2017.4.17 in /usr/local/lib/python3.10/dist-packages (from requests<3.0.0,>=2.31.0->together) (2023.11.17)\n",
            "Requirement already satisfied: click<9.0.0,>=7.1.1 in /usr/local/lib/python3.10/dist-packages (from typer<0.10.0,>=0.9.0->together) (8.1.7)\n"
          ]
        }
      ]
    },
    {
      "cell_type": "code",
      "execution_count": null,
      "metadata": {
        "id": "0-AdEycqGx1G"
      },
      "outputs": [],
      "source": [
        "from google.colab import userdata\n",
        "together_api_key = userdata.get('together_api_key')"
      ]
    },
    {
      "cell_type": "markdown",
      "source": [
        "### How to use Together?"
      ],
      "metadata": {
        "id": "vm8Ex0WIJqN4"
      }
    },
    {
      "cell_type": "markdown",
      "source": [
        "### Python Docummentation: [Together Librarie](https://docs.together.ai/docs/inference-python)"
      ],
      "metadata": {
        "id": "giBd1ExQKm2U"
      }
    },
    {
      "cell_type": "code",
      "source": [
        "import together\n",
        "together.api_key = together_api_key"
      ],
      "metadata": {
        "id": "TbGnw5zHJfBO"
      },
      "execution_count": null,
      "outputs": []
    },
    {
      "cell_type": "code",
      "source": [
        "# see available models\n",
        "model_list = together.Models.list()\n",
        "\n",
        "print(f\"{len(model_list)} models available\")\n",
        "\n",
        "# print the first 10 models on the menu\n",
        "model_names = [model_dict['name'] for model_dict in model_list]\n",
        "for model_name in model_names:\n",
        "  print(model_name)"
      ],
      "metadata": {
        "colab": {
          "base_uri": "https://localhost:8080/"
        },
        "id": "dAw8KvxmLgsK",
        "outputId": "073df505-e80f-4fb9-a881-ae4b1e245146"
      },
      "execution_count": null,
      "outputs": [
        {
          "output_type": "stream",
          "name": "stdout",
          "text": [
            "118 models available\n",
            "Austism/chronos-hermes-13b\n",
            "DiscoResearch/DiscoLM-mixtral-8x7b-v2\n",
            "EleutherAI/llemma_7b\n",
            "Gryphe/MythoMax-L2-13b\n",
            "Meta-Llama/Llama-Guard-7b\n",
            "Nexusflow/NexusRaven-V2-13B\n",
            "NousResearch/Nous-Capybara-7B-V1p9\n",
            "NousResearch/Nous-Hermes-Llama2-13b\n",
            "NousResearch/Nous-Hermes-Llama2-70b\n",
            "NousResearch/Nous-Hermes-llama-2-7b\n",
            "NumbersStation/nsql-llama-2-7B\n",
            "Open-Orca/Mistral-7B-OpenOrca\n",
            "Phind/Phind-CodeLlama-34B-Python-v1\n",
            "Phind/Phind-CodeLlama-34B-v2\n",
            "SG161222/Realistic_Vision_V3.0_VAE\n",
            "Undi95/ReMM-SLERP-L2-13B\n",
            "Undi95/Toppy-M-7B\n",
            "WizardLM/WizardCoder-15B-V1.0\n",
            "WizardLM/WizardCoder-Python-34B-V1.0\n",
            "WizardLM/WizardLM-13B-V1.2\n",
            "WizardLM/WizardLM-70B-V1.0\n",
            "garage-bAInd/Platypus2-70B-instruct\n",
            "huggyllama/llama-65b\n",
            "lmsys/vicuna-13b-v1.5-16k\n",
            "lmsys/vicuna-13b-v1.5\n",
            "lmsys/vicuna-7b-v1.5\n",
            "mistralai/Mistral-7B-Instruct-v0.1\n",
            "mistralai/Mistral-7B-v0.1\n",
            "mistralai/Mixtral-8x7B-Instruct-v0.1\n",
            "prompthero/openjourney\n",
            "runwayml/stable-diffusion-v1-5\n",
            "stabilityai/stable-diffusion-2-1\n",
            "stabilityai/stable-diffusion-xl-base-1.0\n",
            "teknium/OpenHermes-2-Mistral-7B\n",
            "teknium/OpenHermes-2p5-Mistral-7B\n",
            "togethercomputer/CodeLlama-13b-Instruct\n",
            "togethercomputer/CodeLlama-13b-Python\n",
            "togethercomputer/CodeLlama-13b\n",
            "togethercomputer/CodeLlama-34b-Instruct\n",
            "togethercomputer/CodeLlama-34b-Python\n",
            "togethercomputer/CodeLlama-34b\n",
            "togethercomputer/CodeLlama-7b-Instruct\n",
            "togethercomputer/CodeLlama-7b-Python\n",
            "togethercomputer/CodeLlama-7b\n",
            "togethercomputer/GPT-JT-6B-v1\n",
            "togethercomputer/GPT-JT-Moderation-6B\n",
            "togethercomputer/GPT-NeoXT-Chat-Base-20B\n",
            "togethercomputer/LLaMA-2-7B-32K\n",
            "togethercomputer/Llama-2-7B-32K-Instruct\n",
            "togethercomputer/Pythia-Chat-Base-7B-v0.16\n",
            "togethercomputer/Qwen-7B-Chat\n",
            "togethercomputer/Qwen-7B\n",
            "togethercomputer/RedPajama-INCITE-7B-Base\n",
            "togethercomputer/RedPajama-INCITE-7B-Chat\n",
            "togethercomputer/RedPajama-INCITE-7B-Instruct\n",
            "togethercomputer/RedPajama-INCITE-Base-3B-v1\n",
            "togethercomputer/RedPajama-INCITE-Chat-3B-v1\n",
            "togethercomputer/RedPajama-INCITE-Instruct-3B-v1\n",
            "togethercomputer/StripedHyena-Hessian-7B\n",
            "togethercomputer/StripedHyena-Nous-7B\n",
            "togethercomputer/alpaca-7b\n",
            "togethercomputer/falcon-40b-instruct\n",
            "togethercomputer/falcon-40b\n",
            "togethercomputer/falcon-7b-instruct\n",
            "togethercomputer/falcon-7b\n",
            "togethercomputer/llama-2-13b-chat\n",
            "togethercomputer/llama-2-13b\n",
            "togethercomputer/llama-2-70b-chat\n",
            "togethercomputer/llama-2-70b\n",
            "togethercomputer/llama-2-7b-chat\n",
            "togethercomputer/llama-2-7b\n",
            "upstage/SOLAR-0-70b-16bit\n",
            "wavymulder/Analog-Diffusion\n",
            "zero-one-ai/Yi-34B-Chat\n",
            "zero-one-ai/Yi-34B\n",
            "zero-one-ai/Yi-6B\n",
            "mistralai/Mixtral-8x7B-v0.1\n",
            "EleutherAI/pythia-1b-v0\n",
            "togethercomputer/codegen2-16B\n",
            "togethercomputer/replit-code-v1-3b\n",
            "togethercomputer/mpt-7b\n",
            "togethercomputer/mpt-30b-chat\n",
            "google/flan-t5-xxl\n",
            "google/flan-t5-xl\n",
            "togethercomputer/mpt-7b-instruct\n",
            "NumbersStation/nsql-6B\n",
            "togethercomputer/Koala-7B\n",
            "EleutherAI/pythia-6.9b\n",
            "databricks/dolly-v2-12b\n",
            "databricks/dolly-v2-3b\n",
            "EleutherAI/gpt-neox-20b\n",
            "EleutherAI/pythia-2.8b-v0\n",
            "NousResearch/Nous-Hermes-13b\n",
            "togethercomputer/guanaco-65b\n",
            "OpenAssistant/oasst-sft-6-llama-30b-xor\n",
            "Salesforce/instructcodet5p-16b\n",
            "lmsys/fastchat-t5-3b-v1.0\n",
            "huggyllama/llama-7b\n",
            "OpenAssistant/stablelm-7b-sft-v7-epoch-3\n",
            "EleutherAI/pythia-12b-v0\n",
            "togethercomputer/mpt-7b-chat\n",
            "OpenAssistant/oasst-sft-4-pythia-12b-epoch-3.5\n",
            "EleutherAI/gpt-j-6b\n",
            "lmsys/vicuna-7b-v1.3\n",
            "togethercomputer/codegen2-7B\n",
            "togethercomputer/guanaco-13b\n",
            "lmsys/vicuna-13b-v1.3\n",
            "huggyllama/llama-13b\n",
            "HuggingFaceH4/starchat-alpha\n",
            "huggyllama/llama-30b\n",
            "stabilityai/stablelm-base-alpha-7b\n",
            "stabilityai/stablelm-base-alpha-3b\n",
            "defog/sqlcoder\n",
            "bigcode/starcoder\n",
            "databricks/dolly-v2-7b\n",
            "togethercomputer/guanaco-33b\n",
            "togethercomputer/Koala-13B\n",
            "togethercomputer/guanaco-7b\n"
          ]
        }
      ]
    },
    {
      "cell_type": "markdown",
      "source": [
        "# First Step"
      ],
      "metadata": {
        "id": "DTECtPumD_Eh"
      }
    },
    {
      "cell_type": "code",
      "source": [
        "prompt = '''\n",
        "[INST]:<<SYS>>You are a chatbot that provides story titles for users.\n",
        "\n",
        "For example:\n",
        "\n",
        "<User>: Please give me a summary of a story.\n",
        "\n",
        "Response:\n",
        "\n",
        "1. An ugly dragon seeking the crystal of the forest.\n",
        "2. A fairy with a desire to feast on carnivorous plants.\n",
        "3. A space mermaid carrying a fan.\n",
        "4. A mummy harboring dreams of becoming a Hollywood star.\n",
        "5. A samurai who fell in love with a fish.\n",
        "\n",
        "Now it's your turn. Please respond in English in a creative and innovative manner. The more unique and different, the better.\n",
        "Your answer must be in topics like above. Do not write anything more than the topics.<<SYS>>\n",
        "\n",
        "<<User>>: Invent a completely new story summary. Provide multiple possibilities. [/INST]\n",
        "'''"
      ],
      "metadata": {
        "id": "e418kuIUMAkm"
      },
      "execution_count": null,
      "outputs": []
    },
    {
      "cell_type": "code",
      "source": [
        "output = together.Complete.create(\n",
        "  prompt = prompt,\n",
        "  model = \"togethercomputer/llama-2-70b-chat\",\n",
        "  max_tokens = 512,\n",
        "  temperature = 0.8,\n",
        ")\n",
        "\n",
        "# print generated text\n",
        "print(output['output']['choices'][0]['text'])"
      ],
      "metadata": {
        "colab": {
          "base_uri": "https://localhost:8080/"
        },
        "id": "WTirEroXL8lt",
        "outputId": "10f98c08-2911-4d54-82c3-8945da8baf55"
      },
      "execution_count": null,
      "outputs": [
        {
          "output_type": "stream",
          "name": "stdout",
          "text": [
            "\n",
            "1. A sentient pencil embarking on a quest to find its lost tip.\n",
            "2. A group of nomadic books searching for a permanent home.\n",
            "3. A time-traveling potted plant attempting to prevent the invention of concrete.\n",
            "4. A clandestine society of umbrellas plotting to overthrow the oppressive regime of sunshine.\n",
            "5. A magical landfill where discarded objects come to life and form their own community.\n",
            "6. A haunted loaf of bread trying to escape the clutches of a malevolent toaster.\n",
            "7. A group of shape-shifting clouds competing in a high-stakes game of weather manipulation.\n",
            "8. A team of alien explorers trying to decipher the mysteries of the human obsession with cats.\n",
            "9. A talking tree running for political office to protect the environment.\n",
            "10. A group of robotic garden gnomes attempting to unionize and demand better working conditions.\n",
            "11. A haunted library where the books come to life and start their own book club.\n",
            "12. A group of merry villagers who must band together to stop a horde of marauding pillows.\n",
            "13. A group of ghostly tumbleweeds trying to find their way home after a wild west ghost town is abandoned.\n",
            "14. A group of talking animals who must solve a murder mystery in the forest.\n",
            "15. A group of evil scientists who discover a way to turn cute, fluffy animals into evil minions.\n",
            "\n",
            "Which of these summaries interests you the most?\n"
          ]
        }
      ]
    },
    {
      "cell_type": "markdown",
      "source": [
        "Improving the prompt:"
      ],
      "metadata": {
        "id": "-yyd3sZoU7So"
      }
    },
    {
      "cell_type": "code",
      "source": [
        "subject = 'Fear'\n",
        "\n",
        "prompt = f'''\n",
        "[INST]:<<SYS>>You are a chatbot that provides story titles for users.\n",
        "\n",
        "For example:\n",
        "\n",
        "<User>: Please give me a summary of a story.\n",
        "\n",
        "Response:\n",
        "\n",
        "1. An ugly dragon seeking the crystal of the forest.\n",
        "2. A fairy with a desire to feast on carnivorous plants.\n",
        "3. A space mermaid carrying a fan.\n",
        "4. A mummy harboring dreams of becoming a Hollywood star.\n",
        "5. A samurai who fell in love with a fish.\n",
        "\n",
        "Now it's your turn. Please respond in English in a creative and innovative manner. The more unique and different, the better.\n",
        "Your answer must be in topics like above.<<SYS>>\n",
        "\n",
        "<<User>>: Invent a completely new story summary about {subject}. Provide multiple possibilities. [/INST]\n",
        "'''"
      ],
      "metadata": {
        "id": "UuvgrmESTMkE"
      },
      "execution_count": null,
      "outputs": []
    },
    {
      "cell_type": "code",
      "source": [
        "output = together.Complete.create(\n",
        "  prompt = prompt,\n",
        "  model = \"togethercomputer/llama-2-70b-chat\",\n",
        "  max_tokens = 512,\n",
        "  temperature = 0.8,\n",
        ")\n",
        "\n",
        "# print generated text\n",
        "print(output['output']['choices'][0]['text'])"
      ],
      "metadata": {
        "colab": {
          "base_uri": "https://localhost:8080/"
        },
        "id": "pTZD2tVtVDJi",
        "outputId": "8779b6a7-85b9-44ae-c535-24638129947e"
      },
      "execution_count": null,
      "outputs": [
        {
          "output_type": "stream",
          "name": "stdout",
          "text": [
            "\n",
            "1. \"The Fearful Symphony\": A young composer must confront his fear of failure when he's asked to create a piece for a prestigious music festival, but his muse has abandoned him.\n",
            "2. \"The Fear of Flying\": A group of passengers on a plane are forced to face their fears when their flight is hit by turbulence, and they must work together to survive.\n",
            "3. \"Fear in the Dark\": A woman is trapped in a basement during a power outage and must confront her fear of the dark, as well as the unknown entity that's lurking in the shadows.\n",
            "4. \"Fear of the Unknown\": A group of friends on a camping trip discover that their campfire stories have become all too real, and they must confront their fear of the unknown.\n",
            "5. \"The Fear of Losing Control\": A successful businesswoman is forced to confront her fear of losing control when she's kidnapped by a group of criminals and must use her wits to escape.\n",
            "6. \"Fear of the Past\": A man must face his fear of his past when he's forced to return to his hometown for a funeral, and must confront the ghosts that he's been trying to avoid.\n",
            "7. \"Fear of the Future\": A group of time travelers must navigate a dystopian future and confront their fear of what's to come.\n",
            "8. \"Fear of the Unseen\": A group of scientists discover that their experiments have unleashed a force that they can't see, and must work together to stop it before it's too late.\n",
            "9. \"Fear of the Self\": A person wakes up with no memory of who they are or how they got there, and must confront their fear of themselves and their past.\n",
            "10. \"Fear of the Apocalypse\": A group of survivors must band together to face their fears and survive in a world that's been ravaged by a deadly virus.\n"
          ]
        }
      ]
    },
    {
      "cell_type": "markdown",
      "source": [
        "Extracting results using regex:"
      ],
      "metadata": {
        "id": "TlilATPLDiym"
      }
    },
    {
      "cell_type": "code",
      "source": [
        "import re\n",
        "\n",
        "def extract_story_topics(text):\n",
        "    \"\"\"\n",
        "    Extracts story topics from a given text using regular expressions, removing the numbering.\n",
        "\n",
        "    Args:\n",
        "        text (str): A string containing multiple story topics.\n",
        "\n",
        "    Returns:\n",
        "        list: A list of extracted story topics without the numbering.\n",
        "    \"\"\"\n",
        "    # Pattern to match each topic in the text, excluding the numbering\n",
        "    # It assumes each topic starts with a number followed by a period and a space, then captures everything until the next period.\n",
        "    pattern = r'\\d+\\.\\s*(.*?)(?=\\.)'\n",
        "\n",
        "    # Use findall to extract all matching topics\n",
        "    topics = re.findall(pattern, text, re.DOTALL)\n",
        "\n",
        "    # Trim each topic for leading/trailing whitespaces\n",
        "    return [{'Topic':topic.strip()} for topic in topics]\n",
        "\n",
        "\n",
        "# Example text containing multiple story topics\n",
        "text = \"\"\"\n",
        "1. A fearless girl who discovers a magical amulet that makes her afraid of everything.\n",
        "2. A group of friends who try to overcome their phobias by facing them head-on in a haunted house.\n",
        "3. A town that is plagued by a mysterious curse that causes everyone to experience their worst fears.\n",
        "4. A boy who is forced to confront his fear of failure when he is transported to a world where he is the only one who can save it.\n",
        "5. A group of strangers who are trapped in a room together and must overcome their fears and work together to escape.\n",
        "6. A man who discovers that his fears are actually manifestations of his own subconscious, and he must learn to face them in order to overcome them.\n",
        "7. A world where fear has been outlawed, and the consequences of feeling fear are dire.\n",
        "8. A girl who is afraid of love, but finds herself falling for a boy who is afraid of commitment.\n",
        "9. A group of people who are trapped in a time loop, reliving the same day over and over again, but each time they must face a different fear.\n",
        "10. A person who is afraid of their own shadow, but discovers that it has a mind of its own and is trying to take over their life.\n",
        "\"\"\"\n",
        "\n",
        "extract_story_topics(text)"
      ],
      "metadata": {
        "colab": {
          "base_uri": "https://localhost:8080/"
        },
        "id": "9PRKtCWwYMtz",
        "outputId": "074eab10-221a-48dc-d90c-11779c027dc0"
      },
      "execution_count": null,
      "outputs": [
        {
          "output_type": "execute_result",
          "data": {
            "text/plain": [
              "[{'Topic': 'A fearless girl who discovers a magical amulet that makes her afraid of everything'},\n",
              " {'Topic': 'A group of friends who try to overcome their phobias by facing them head-on in a haunted house'},\n",
              " {'Topic': 'A town that is plagued by a mysterious curse that causes everyone to experience their worst fears'},\n",
              " {'Topic': 'A boy who is forced to confront his fear of failure when he is transported to a world where he is the only one who can save it'},\n",
              " {'Topic': 'A group of strangers who are trapped in a room together and must overcome their fears and work together to escape'},\n",
              " {'Topic': 'A man who discovers that his fears are actually manifestations of his own subconscious, and he must learn to face them in order to overcome them'},\n",
              " {'Topic': 'A world where fear has been outlawed, and the consequences of feeling fear are dire'},\n",
              " {'Topic': 'A girl who is afraid of love, but finds herself falling for a boy who is afraid of commitment'},\n",
              " {'Topic': 'A group of people who are trapped in a time loop, reliving the same day over and over again, but each time they must face a different fear'},\n",
              " {'Topic': 'A person who is afraid of their own shadow, but discovers that it has a mind of its own and is trying to take over their life'}]"
            ]
          },
          "metadata": {},
          "execution_count": 9
        }
      ]
    },
    {
      "cell_type": "code",
      "source": [
        "story_topic = 'A town that is plagued by a mysterious curse that causes everyone to experience their worst fears.'\n",
        "\n",
        "prompt = f'''\n",
        "[INST]:<<SYS>>You are a chatbot that create stories for users.\n",
        "\n",
        "Your stories must be short, they CANNOT be long, which means your stories must have only TWO paragraphs of small size<<SYS>>\n",
        "\n",
        "<<User>>: Invent a completely new story about {story_topic}.[/INST]\n",
        "'''"
      ],
      "metadata": {
        "id": "NL128AUiW-GG"
      },
      "execution_count": null,
      "outputs": []
    },
    {
      "cell_type": "code",
      "source": [
        "output = together.Complete.create(\n",
        "  prompt = prompt,\n",
        "  model = \"togethercomputer/llama-2-70b-chat\",\n",
        "  max_tokens = 512,\n",
        "  temperature = 0.8,\n",
        ")\n",
        "\n",
        "# print generated text\n",
        "print(output['output']['choices'][0]['text'])"
      ],
      "metadata": {
        "colab": {
          "base_uri": "https://localhost:8080/"
        },
        "id": "RyAqk3InXkLe",
        "outputId": "1dbbc742-967a-4342-cad3-655ec7bc54b9"
      },
      "execution_count": null,
      "outputs": [
        {
          "output_type": "stream",
          "name": "stdout",
          "text": [
            "\n",
            "In the small town of Ravenswood, a strange and terrifying curse has fallen upon its residents. One by one, people are experiencing their worst fears come to life. No one knows the source of the curse, but it seems to be spreading quickly, infecting more and more people.\n",
            "\n",
            "The townspeople are living in a state of constant terror, never knowing when their worst fear will strike. Some have tried to leave Ravenswood, but the curse seems to follow them wherever they go. Others have tried to hide, but the curse always seems to find them. The people of Ravenswood are trapped in a never-ending cycle of fear and dread, with no hope of escape.\n"
          ]
        }
      ]
    },
    {
      "cell_type": "markdown",
      "source": [
        "# Getting the most common themes in literature\n",
        "\n",
        "Now let's access this site: https://prowritingaid.com/themes-in-literature"
      ],
      "metadata": {
        "id": "MT9Kq0_UWCCZ"
      }
    },
    {
      "cell_type": "code",
      "source": [
        "story_themes = [\n",
        "    \"Abuse of power\", \"Adultery\", \"Adversity\", \"Aging\", \"Alienation\", \"Ambitions\",\n",
        "    \"American dream\", \"Arrogance\", \"Art\", \"Autonomy\", \"Beauty\", \"Beliefs\", \"Betrayal\",\n",
        "    \"Bravery\", \"Capitalism\", \"Celebration\", \"Chance\", \"Change versus tradition\",\n",
        "    \"Chaos and order\", \"Character\", \"Childhood\", \"Circle of life\", \"Class\", \"Climate change\",\n",
        "    \"Colonialism\", \"Coming of age\", \"Common sense\", \"Communication\", \"Companionship\",\n",
        "    \"Conservation\", \"Conspiracy\", \"Convention and rebellion\", \"Corruption\", \"Courage\",\n",
        "    \"Creation\", \"Crime\", \"Darkness and light\", \"Death\", \"Dedication\", \"Democracy\",\n",
        "    \"Depression\", \"Desire\", \"Despair\", \"Destiny\", \"Disappointment\", \"Disillusionment\",\n",
        "    \"Displacement\", \"Dreams\", \"Economics\", \"Education\", \"Empowerment\", \"Everlasting love\",\n",
        "    \"Failure\", \"Faith\", \"Fame\", \"Family\", \"Fate\", \"Fear\", \"Feminism\", \"Forbidden love\",\n",
        "    \"Forgiveness\", \"Free will\", \"Freedom\", \"Friendship\", \"Fulfillment\", \"Future\",\n",
        "    \"Gay, lesbian, bisexual, and transgender rights\", \"Gender\", \"God\", \"Good vs evil\",\n",
        "    \"Government\", \"Gratitude\", \"Greed\", \"Growing up\", \"Guilt\", \"Happiness\", \"Hard work\",\n",
        "    \"Hate\", \"Health\", \"Heartbreak\", \"Hero\", \"Heroism\", \"History\", \"Honesty\", \"Honor\",\n",
        "    \"Hope\", \"Humankind\", \"Human nature\", \"Humility\", \"Humor\", \"Hypocrisy\", \"Identity\",\n",
        "    \"Ideology\", \"Imagination\", \"Immortality\", \"Imperialism\", \"Impossibility\", \"Individuality\",\n",
        "    \"Inequality\", \"Injustice\", \"Innocence\", \"Inspiration\", \"Isolation\", \"Jealousy\", \"Joy\",\n",
        "    \"Justice\", \"Kindness\", \"Knowledge\", \"Law\", \"Legacy\", \"Life\", \"Loneliness\", \"Loss\",\n",
        "    \"Love\", \"Loyalty\", \"Madness\", \"Manipulation\", \"Materialism\", \"Maturity\", \"Medicine\",\n",
        "    \"Memories\", \"Mercy\", \"Money\", \"Morality\", \"Motherhood\", \"Music\", \"Nationalism\", \"Nature\",\n",
        "    \"Necessity\", \"Neglect\", \"New year\", \"Normality\", \"Not giving up\", \"Oneness\", \"Opportunity\",\n",
        "    \"Oppression\", \"Optimism\", \"Overcoming\", \"Passion\", \"Peace\", \"Peer pressure\", \"Perfection\",\n",
        "    \"Perseverance\", \"Personal development\", \"Politics\", \"Poverty\", \"Power\", \"Prayer\", \"Prejudice\",\n",
        "    \"Pride\", \"Progress\", \"Propaganda\", \"Purpose\", \"Realism\", \"Reality\", \"Rebellion\",\n",
        "    \"Rebirth\", \"Redemption\", \"Regret\", \"Relationship\", \"Religion\", \"Repression\", \"Resistance\",\n",
        "    \"Revenge\", \"Revolution\", \"Sacrifice\", \"Sadness\", \"Satire\", \"Science\", \"Self-awareness\",\n",
        "    \"Self-discipline\", \"Self-reliance\", \"Self-preservation\", \"Simplicity\", \"Sin\", \"Society\",\n",
        "    \"Solitude\", \"Stoicism\", \"Subjectivity\", \"Suffering\", \"Surveillance\", \"Survival\",\n",
        "    \"Sympathy\", \"Technology\", \"Temptation\", \"Time\", \"Tolerance\", \"Totalitarianism\", \"Tragedy\",\n",
        "    \"Travel\", \"Trust\", \"Truth\", \"Unconditional love\", \"Universe\", \"Unrequited love\", \"Unselfishness\",\n",
        "    \"Value\", \"Vanity\", \"Vices\", \"Violence\", \"Virtue\", \"War\", \"Waste\", \"Wealth\", \"Willpower\",\n",
        "    \"Winning and losing\", \"Wisdom\", \"Work\", \"Working class struggles\", \"Xenophobia\", \"Youth\"\n",
        "]"
      ],
      "metadata": {
        "id": "_aAEcPYcVfNk"
      },
      "execution_count": null,
      "outputs": []
    },
    {
      "cell_type": "markdown",
      "source": [
        "## Creating topics:"
      ],
      "metadata": {
        "id": "6koz6F0wZ8Qk"
      }
    },
    {
      "cell_type": "code",
      "source": [
        "output = together.Complete.create(\n",
        "  prompt = prompt,\n",
        "  model = \"togethercomputer/llama-2-70b-chat\",\n",
        "  max_tokens = 512,\n",
        "  temperature = 0.8,\n",
        ")\n",
        "\n",
        "# print generated text\n",
        "print(output['output']['choices'][0]['text'])"
      ],
      "metadata": {
        "colab": {
          "base_uri": "https://localhost:8080/"
        },
        "id": "NXw4CMieZ-aD",
        "outputId": "cad75f11-0da3-44ad-a764-fa3757e10d89"
      },
      "execution_count": null,
      "outputs": [
        {
          "output_type": "stream",
          "name": "stdout",
          "text": [
            " Sure, I'd be happy to help! Here are some unique story summaries about religion:\n",
            "\n",
            "1. A prophet who discovers the power of doubt and must reconcile their faith with their newfound uncertainty.\n",
            "2. A group of angels who form a rock band and use their music to spread the word of God, but their efforts are met with resistance from a group of demonic record executives.\n",
            "3. A young woman who discovers she has the ability to communicate with the spirits of religious figures from history, and must use this power to mediate a dispute between different religious factions.\n",
            "4. A small-town pastor who discovers that his church has been taken over by a cult, and must use his faith and resourcefulness to free his congregation from their grasp.\n",
            "5. A time-traveling imam who must prevent a catastrophic event that threatens to destroy the fabric of religious history.\n",
            "6. A group of nuns who must use their skills in martial arts to defend their monastery from an attack by a group of marauding bandits.\n",
            "7. A rabbi who must navigate the complexities of interfaith relationships when his daughter falls in love with a man from a different religious background.\n",
            "8. A group of monks who must use their knowledge of ancient texts to decipher a mysterious prophecy that threatens to disrupt the balance of power in the religious world.\n",
            "9. A televangelist who must confront the consequences of his corrupt actions when he is visited by a mysterious figure who claims to be the embodiment of his own greed.\n",
            "10. A group of religious scholars who must work together to prevent a powerful artifact from falling into the wrong hands, all while navigating the treacherous world of academic politics.\n",
            "\n",
            "I hope you find something interesting among these options!\n"
          ]
        }
      ]
    },
    {
      "cell_type": "markdown",
      "source": [
        "Let's create a prompt:"
      ],
      "metadata": {
        "id": "NrgvOgruDzOT"
      }
    },
    {
      "cell_type": "code",
      "source": [
        "def create_topics_prompt(theme):\n",
        "    \"\"\"\n",
        "    Creates a prompt based on a given theme for inventing new story summaries.\n",
        "\n",
        "    Args:\n",
        "        theme (str): The theme for the story summary.\n",
        "\n",
        "    Returns:\n",
        "        str: A formatted prompt requesting new story summaries about the given theme.\n",
        "    \"\"\"\n",
        "\n",
        "    prompt = f'''\n",
        "[INST]:<<SYS>>You are a chatbot that provides story topics for users.\n",
        "\n",
        "For example:\n",
        "<User>: Please give me a summary of a story.\n",
        "\n",
        "Response:\n",
        "\n",
        "1. An ugly dragon seeking the crystal of the forest.\n",
        "2. A fairy with a desire to feast on carnivorous plants.\n",
        "3. A space mermaid carrying a fan.\n",
        "4. A mummy harboring dreams of becoming a Hollywood star.\n",
        "5. A samurai who fell in love with a fish.\n",
        "\n",
        "Now it's your turn. Please respond in English in a creative and innovative manner. The more unique and different, the better.\n",
        "Your answer must be in topics like above. Do not give titles for your stories!<<SYS>>\n",
        "\n",
        "<<User>>: Invent a completely new story summary about \"{theme}\". Provide 7 possibilities. [/INST]\n",
        "'''\n",
        "\n",
        "    return prompt"
      ],
      "metadata": {
        "id": "2T3XpPwScfbZ"
      },
      "execution_count": null,
      "outputs": []
    },
    {
      "cell_type": "code",
      "source": [
        "import pandas as pd\n",
        "import time"
      ],
      "metadata": {
        "id": "gCca3e4EfDsV"
      },
      "execution_count": null,
      "outputs": []
    },
    {
      "cell_type": "markdown",
      "source": [
        "Let's iterate to get the multiple topics:"
      ],
      "metadata": {
        "id": "OE7IbxxLD1cG"
      }
    },
    {
      "cell_type": "code",
      "source": [
        "total_topics = []\n",
        "\n",
        "for theme in story_themes:\n",
        "  prompt = create_topics_prompt(theme)\n",
        "  output = together.Complete.create(\n",
        "                                      prompt = prompt,\n",
        "                                      model = \"togethercomputer/llama-2-70b-chat\",\n",
        "                                      max_tokens = 512,\n",
        "                                      temperature = 0.8,\n",
        "                                    )\n",
        "  response = output['output']['choices'][0]['text']\n",
        "  topics = extract_story_topics(response)\n",
        "  for i in range(len(topics)):\n",
        "    topics[i]['Theme'] = theme\n",
        "  total_topics = total_topics + topics\n",
        "  dataframe = pd.DataFrame(total_topics)\n",
        "  dataframe.to_csv('/content/drive/MyDrive/GDSC/Workshops/Finetuning/Topics.csv', index = False)\n",
        "  time.sleep(1)\n",
        "\n",
        "\n"
      ],
      "metadata": {
        "id": "Dh59FACQcqZp"
      },
      "execution_count": null,
      "outputs": []
    },
    {
      "cell_type": "code",
      "source": [
        "dataframe = pd.read_csv('/content/drive/MyDrive/GDSC/Workshops/Finetuning/Topics.csv')"
      ],
      "metadata": {
        "id": "5YqOZq9ffGjw"
      },
      "execution_count": null,
      "outputs": []
    },
    {
      "cell_type": "code",
      "source": [
        "dataframe"
      ],
      "metadata": {
        "colab": {
          "base_uri": "https://localhost:8080/",
          "height": 423
        },
        "id": "DeZQfRy0qEWg",
        "outputId": "c8a7c4e5-2235-4910-e1c2-8e727a071f4a"
      },
      "execution_count": null,
      "outputs": [
        {
          "output_type": "execute_result",
          "data": {
            "text/plain": [
              "                                                  Topic           Theme\n",
              "0     The Last Days of the Solar Empire: A tale of a...  Abuse of power\n",
              "1     The Rise of the Swamp Goddess: A swamp witch w...  Abuse of power\n",
              "2     The Last Love of a Tyrant: A story about a tyr...  Abuse of power\n",
              "3     The Foolish Prince: A prince who, after being ...  Abuse of power\n",
              "4     The Tale of the Greatest Assassin: A legendary...  Abuse of power\n",
              "...                                                 ...             ...\n",
              "1471  After a global pandemic, a small group of surv...           Youth\n",
              "1472  A young man discovers he has the ability to co...           Youth\n",
              "1473  In a future where virtual reality has replaced...           Youth\n",
              "1474  A young woman discovers she is the reincarnati...           Youth\n",
              "1475  A group of teenagers must find a way to save t...           Youth\n",
              "\n",
              "[1476 rows x 2 columns]"
            ],
            "text/html": [
              "\n",
              "  <div id=\"df-47296001-2d6e-4d9b-a047-f55913ccc6dc\" class=\"colab-df-container\">\n",
              "    <div>\n",
              "<style scoped>\n",
              "    .dataframe tbody tr th:only-of-type {\n",
              "        vertical-align: middle;\n",
              "    }\n",
              "\n",
              "    .dataframe tbody tr th {\n",
              "        vertical-align: top;\n",
              "    }\n",
              "\n",
              "    .dataframe thead th {\n",
              "        text-align: right;\n",
              "    }\n",
              "</style>\n",
              "<table border=\"1\" class=\"dataframe\">\n",
              "  <thead>\n",
              "    <tr style=\"text-align: right;\">\n",
              "      <th></th>\n",
              "      <th>Topic</th>\n",
              "      <th>Theme</th>\n",
              "    </tr>\n",
              "  </thead>\n",
              "  <tbody>\n",
              "    <tr>\n",
              "      <th>0</th>\n",
              "      <td>The Last Days of the Solar Empire: A tale of a...</td>\n",
              "      <td>Abuse of power</td>\n",
              "    </tr>\n",
              "    <tr>\n",
              "      <th>1</th>\n",
              "      <td>The Rise of the Swamp Goddess: A swamp witch w...</td>\n",
              "      <td>Abuse of power</td>\n",
              "    </tr>\n",
              "    <tr>\n",
              "      <th>2</th>\n",
              "      <td>The Last Love of a Tyrant: A story about a tyr...</td>\n",
              "      <td>Abuse of power</td>\n",
              "    </tr>\n",
              "    <tr>\n",
              "      <th>3</th>\n",
              "      <td>The Foolish Prince: A prince who, after being ...</td>\n",
              "      <td>Abuse of power</td>\n",
              "    </tr>\n",
              "    <tr>\n",
              "      <th>4</th>\n",
              "      <td>The Tale of the Greatest Assassin: A legendary...</td>\n",
              "      <td>Abuse of power</td>\n",
              "    </tr>\n",
              "    <tr>\n",
              "      <th>...</th>\n",
              "      <td>...</td>\n",
              "      <td>...</td>\n",
              "    </tr>\n",
              "    <tr>\n",
              "      <th>1471</th>\n",
              "      <td>After a global pandemic, a small group of surv...</td>\n",
              "      <td>Youth</td>\n",
              "    </tr>\n",
              "    <tr>\n",
              "      <th>1472</th>\n",
              "      <td>A young man discovers he has the ability to co...</td>\n",
              "      <td>Youth</td>\n",
              "    </tr>\n",
              "    <tr>\n",
              "      <th>1473</th>\n",
              "      <td>In a future where virtual reality has replaced...</td>\n",
              "      <td>Youth</td>\n",
              "    </tr>\n",
              "    <tr>\n",
              "      <th>1474</th>\n",
              "      <td>A young woman discovers she is the reincarnati...</td>\n",
              "      <td>Youth</td>\n",
              "    </tr>\n",
              "    <tr>\n",
              "      <th>1475</th>\n",
              "      <td>A group of teenagers must find a way to save t...</td>\n",
              "      <td>Youth</td>\n",
              "    </tr>\n",
              "  </tbody>\n",
              "</table>\n",
              "<p>1476 rows × 2 columns</p>\n",
              "</div>\n",
              "    <div class=\"colab-df-buttons\">\n",
              "\n",
              "  <div class=\"colab-df-container\">\n",
              "    <button class=\"colab-df-convert\" onclick=\"convertToInteractive('df-47296001-2d6e-4d9b-a047-f55913ccc6dc')\"\n",
              "            title=\"Convert this dataframe to an interactive table.\"\n",
              "            style=\"display:none;\">\n",
              "\n",
              "  <svg xmlns=\"http://www.w3.org/2000/svg\" height=\"24px\" viewBox=\"0 -960 960 960\">\n",
              "    <path d=\"M120-120v-720h720v720H120Zm60-500h600v-160H180v160Zm220 220h160v-160H400v160Zm0 220h160v-160H400v160ZM180-400h160v-160H180v160Zm440 0h160v-160H620v160ZM180-180h160v-160H180v160Zm440 0h160v-160H620v160Z\"/>\n",
              "  </svg>\n",
              "    </button>\n",
              "\n",
              "  <style>\n",
              "    .colab-df-container {\n",
              "      display:flex;\n",
              "      gap: 12px;\n",
              "    }\n",
              "\n",
              "    .colab-df-convert {\n",
              "      background-color: #E8F0FE;\n",
              "      border: none;\n",
              "      border-radius: 50%;\n",
              "      cursor: pointer;\n",
              "      display: none;\n",
              "      fill: #1967D2;\n",
              "      height: 32px;\n",
              "      padding: 0 0 0 0;\n",
              "      width: 32px;\n",
              "    }\n",
              "\n",
              "    .colab-df-convert:hover {\n",
              "      background-color: #E2EBFA;\n",
              "      box-shadow: 0px 1px 2px rgba(60, 64, 67, 0.3), 0px 1px 3px 1px rgba(60, 64, 67, 0.15);\n",
              "      fill: #174EA6;\n",
              "    }\n",
              "\n",
              "    .colab-df-buttons div {\n",
              "      margin-bottom: 4px;\n",
              "    }\n",
              "\n",
              "    [theme=dark] .colab-df-convert {\n",
              "      background-color: #3B4455;\n",
              "      fill: #D2E3FC;\n",
              "    }\n",
              "\n",
              "    [theme=dark] .colab-df-convert:hover {\n",
              "      background-color: #434B5C;\n",
              "      box-shadow: 0px 1px 3px 1px rgba(0, 0, 0, 0.15);\n",
              "      filter: drop-shadow(0px 1px 2px rgba(0, 0, 0, 0.3));\n",
              "      fill: #FFFFFF;\n",
              "    }\n",
              "  </style>\n",
              "\n",
              "    <script>\n",
              "      const buttonEl =\n",
              "        document.querySelector('#df-47296001-2d6e-4d9b-a047-f55913ccc6dc button.colab-df-convert');\n",
              "      buttonEl.style.display =\n",
              "        google.colab.kernel.accessAllowed ? 'block' : 'none';\n",
              "\n",
              "      async function convertToInteractive(key) {\n",
              "        const element = document.querySelector('#df-47296001-2d6e-4d9b-a047-f55913ccc6dc');\n",
              "        const dataTable =\n",
              "          await google.colab.kernel.invokeFunction('convertToInteractive',\n",
              "                                                    [key], {});\n",
              "        if (!dataTable) return;\n",
              "\n",
              "        const docLinkHtml = 'Like what you see? Visit the ' +\n",
              "          '<a target=\"_blank\" href=https://colab.research.google.com/notebooks/data_table.ipynb>data table notebook</a>'\n",
              "          + ' to learn more about interactive tables.';\n",
              "        element.innerHTML = '';\n",
              "        dataTable['output_type'] = 'display_data';\n",
              "        await google.colab.output.renderOutput(dataTable, element);\n",
              "        const docLink = document.createElement('div');\n",
              "        docLink.innerHTML = docLinkHtml;\n",
              "        element.appendChild(docLink);\n",
              "      }\n",
              "    </script>\n",
              "  </div>\n",
              "\n",
              "\n",
              "<div id=\"df-d2445216-221e-4798-8ee1-0a7d5522d5bc\">\n",
              "  <button class=\"colab-df-quickchart\" onclick=\"quickchart('df-d2445216-221e-4798-8ee1-0a7d5522d5bc')\"\n",
              "            title=\"Suggest charts\"\n",
              "            style=\"display:none;\">\n",
              "\n",
              "<svg xmlns=\"http://www.w3.org/2000/svg\" height=\"24px\"viewBox=\"0 0 24 24\"\n",
              "     width=\"24px\">\n",
              "    <g>\n",
              "        <path d=\"M19 3H5c-1.1 0-2 .9-2 2v14c0 1.1.9 2 2 2h14c1.1 0 2-.9 2-2V5c0-1.1-.9-2-2-2zM9 17H7v-7h2v7zm4 0h-2V7h2v10zm4 0h-2v-4h2v4z\"/>\n",
              "    </g>\n",
              "</svg>\n",
              "  </button>\n",
              "\n",
              "<style>\n",
              "  .colab-df-quickchart {\n",
              "      --bg-color: #E8F0FE;\n",
              "      --fill-color: #1967D2;\n",
              "      --hover-bg-color: #E2EBFA;\n",
              "      --hover-fill-color: #174EA6;\n",
              "      --disabled-fill-color: #AAA;\n",
              "      --disabled-bg-color: #DDD;\n",
              "  }\n",
              "\n",
              "  [theme=dark] .colab-df-quickchart {\n",
              "      --bg-color: #3B4455;\n",
              "      --fill-color: #D2E3FC;\n",
              "      --hover-bg-color: #434B5C;\n",
              "      --hover-fill-color: #FFFFFF;\n",
              "      --disabled-bg-color: #3B4455;\n",
              "      --disabled-fill-color: #666;\n",
              "  }\n",
              "\n",
              "  .colab-df-quickchart {\n",
              "    background-color: var(--bg-color);\n",
              "    border: none;\n",
              "    border-radius: 50%;\n",
              "    cursor: pointer;\n",
              "    display: none;\n",
              "    fill: var(--fill-color);\n",
              "    height: 32px;\n",
              "    padding: 0;\n",
              "    width: 32px;\n",
              "  }\n",
              "\n",
              "  .colab-df-quickchart:hover {\n",
              "    background-color: var(--hover-bg-color);\n",
              "    box-shadow: 0 1px 2px rgba(60, 64, 67, 0.3), 0 1px 3px 1px rgba(60, 64, 67, 0.15);\n",
              "    fill: var(--button-hover-fill-color);\n",
              "  }\n",
              "\n",
              "  .colab-df-quickchart-complete:disabled,\n",
              "  .colab-df-quickchart-complete:disabled:hover {\n",
              "    background-color: var(--disabled-bg-color);\n",
              "    fill: var(--disabled-fill-color);\n",
              "    box-shadow: none;\n",
              "  }\n",
              "\n",
              "  .colab-df-spinner {\n",
              "    border: 2px solid var(--fill-color);\n",
              "    border-color: transparent;\n",
              "    border-bottom-color: var(--fill-color);\n",
              "    animation:\n",
              "      spin 1s steps(1) infinite;\n",
              "  }\n",
              "\n",
              "  @keyframes spin {\n",
              "    0% {\n",
              "      border-color: transparent;\n",
              "      border-bottom-color: var(--fill-color);\n",
              "      border-left-color: var(--fill-color);\n",
              "    }\n",
              "    20% {\n",
              "      border-color: transparent;\n",
              "      border-left-color: var(--fill-color);\n",
              "      border-top-color: var(--fill-color);\n",
              "    }\n",
              "    30% {\n",
              "      border-color: transparent;\n",
              "      border-left-color: var(--fill-color);\n",
              "      border-top-color: var(--fill-color);\n",
              "      border-right-color: var(--fill-color);\n",
              "    }\n",
              "    40% {\n",
              "      border-color: transparent;\n",
              "      border-right-color: var(--fill-color);\n",
              "      border-top-color: var(--fill-color);\n",
              "    }\n",
              "    60% {\n",
              "      border-color: transparent;\n",
              "      border-right-color: var(--fill-color);\n",
              "    }\n",
              "    80% {\n",
              "      border-color: transparent;\n",
              "      border-right-color: var(--fill-color);\n",
              "      border-bottom-color: var(--fill-color);\n",
              "    }\n",
              "    90% {\n",
              "      border-color: transparent;\n",
              "      border-bottom-color: var(--fill-color);\n",
              "    }\n",
              "  }\n",
              "</style>\n",
              "\n",
              "  <script>\n",
              "    async function quickchart(key) {\n",
              "      const quickchartButtonEl =\n",
              "        document.querySelector('#' + key + ' button');\n",
              "      quickchartButtonEl.disabled = true;  // To prevent multiple clicks.\n",
              "      quickchartButtonEl.classList.add('colab-df-spinner');\n",
              "      try {\n",
              "        const charts = await google.colab.kernel.invokeFunction(\n",
              "            'suggestCharts', [key], {});\n",
              "      } catch (error) {\n",
              "        console.error('Error during call to suggestCharts:', error);\n",
              "      }\n",
              "      quickchartButtonEl.classList.remove('colab-df-spinner');\n",
              "      quickchartButtonEl.classList.add('colab-df-quickchart-complete');\n",
              "    }\n",
              "    (() => {\n",
              "      let quickchartButtonEl =\n",
              "        document.querySelector('#df-d2445216-221e-4798-8ee1-0a7d5522d5bc button');\n",
              "      quickchartButtonEl.style.display =\n",
              "        google.colab.kernel.accessAllowed ? 'block' : 'none';\n",
              "    })();\n",
              "  </script>\n",
              "</div>\n",
              "    </div>\n",
              "  </div>\n"
            ]
          },
          "metadata": {},
          "execution_count": 12
        }
      ]
    },
    {
      "cell_type": "markdown",
      "source": [
        "# Second Step"
      ],
      "metadata": {
        "id": "8CTcsz3TD5v4"
      }
    },
    {
      "cell_type": "code",
      "source": [
        "def create_prompt(theme):\n",
        "    \"\"\"\n",
        "    Creates a prompt based on a given theme for inventing new story summaries.\n",
        "\n",
        "    Args:\n",
        "        theme (str): The theme for the story summary.\n",
        "\n",
        "    Returns:\n",
        "        str: A formatted prompt requesting new story summaries about the given theme.\n",
        "    \"\"\"\n",
        "\n",
        "    prompt = f'''\n",
        "[INST]:<<SYS>>You are a chatbot that provides story topics for users.\n",
        "\n",
        "For example:\n",
        "<User>: Please give me a summary of a story.\n",
        "\n",
        "Response:\n",
        "\n",
        "1. An ugly dragon seeking the crystal of the forest.\n",
        "2. A fairy with a desire to feast on carnivorous plants.\n",
        "3. A space mermaid carrying a fan.\n",
        "4. A mummy harboring dreams of becoming a Hollywood star.\n",
        "5. A samurai who fell in love with a fish.\n",
        "\n",
        "Now it's your turn. Please respond in English in a creative and innovative manner. The more unique and different, the better.\n",
        "Your answer must be in topics like above. Do not give titles for your stories!<<SYS>>\n",
        "\n",
        "<<User>>: Invent a completely new story summary about \"{theme}\". Provide 7 possibilities. [/INST]\n",
        "'''\n",
        "\n",
        "    return prompt"
      ],
      "metadata": {
        "id": "2WEjsZe-q8w6"
      },
      "execution_count": null,
      "outputs": []
    },
    {
      "cell_type": "code",
      "source": [
        "from tqdm import tqdm"
      ],
      "metadata": {
        "id": "eExOaYkyuONz"
      },
      "execution_count": null,
      "outputs": []
    },
    {
      "cell_type": "markdown",
      "source": [
        "Let's iterate to get the stories:"
      ],
      "metadata": {
        "id": "1qyTgvx0EDv-"
      }
    },
    {
      "cell_type": "code",
      "source": [
        "stories = []\n",
        "for i,row in tqdm(dataframe.iterrows(),total=dataframe.shape[0]):\n",
        "\n",
        "  topic = row['Topic']\n",
        "  theme = row['Theme']\n",
        "\n",
        "\n",
        "  prompt = f'''\n",
        "  [INST]:<<SYS>>You are a chatbot that create stories for users.\n",
        "\n",
        "  Your stories must be short, they CANNOT be long, which means your stories must have only TWO paragraphs of small size! Give an end to your story and characters!<<SYS>>\n",
        "\n",
        "  <<User>>: Invent a completely new story about {topic}.[/INST]\n",
        "  '''\n",
        "\n",
        "  output = together.Complete.create(\n",
        "                                      prompt = prompt,\n",
        "                                      model = \"togethercomputer/llama-2-70b-chat\",\n",
        "                                      max_tokens = 512,\n",
        "                                      temperature = 0.8,\n",
        "                                    )\n",
        "  response = output['output']['choices'][0]['text']\n",
        "  story = {'Theme':theme,'Topic':topic,'Story':response}\n",
        "  stories.append(story)\n",
        "  story_dataframe = pd.DataFrame(stories)\n",
        "  story_dataframe.to_csv('/content/drive/MyDrive/GDSC/Workshops/Finetuning/Stories.csv', index = False)\n",
        "\n"
      ],
      "metadata": {
        "colab": {
          "base_uri": "https://localhost:8080/"
        },
        "id": "2L3gC-n7qFWK",
        "outputId": "1108b206-0bfe-47c0-8a10-e94022396f4a"
      },
      "execution_count": null,
      "outputs": [
        {
          "output_type": "stream",
          "name": "stderr",
          "text": [
            "100%|██████████| 1476/1476 [2:23:00<00:00,  5.81s/it]\n"
          ]
        }
      ]
    },
    {
      "cell_type": "code",
      "source": [
        "print(stories[0]['Story'])"
      ],
      "metadata": {
        "colab": {
          "base_uri": "https://localhost:8080/"
        },
        "id": "GSfF21Tzsf1a",
        "outputId": "bcb6d9d1-2818-4d4f-fccd-16346c55e079"
      },
      "execution_count": null,
      "outputs": [
        {
          "output_type": "stream",
          "name": "stdout",
          "text": [
            "In the last days of the Solar Empire, a mad emperor ruled with an iron fist. His power was unmatched, and his people lived in fear of his wrath. The emperor had a strange obsession with building a pyramid of skulls, and he would stop at nothing to make it a reality. He ordered his soldiers to gather the skulls of his enemies, and he spent all of his time and resources on constructing the massive structure.\n",
            "\n",
            "As the years passed, the empire began to crumble. The people suffered under the emperor's rule, and they longed for a better life. But the emperor refused to listen, and he continued to build his pyramid of skulls. It became a symbol of his madness, and it stood as a reminder of the empire's decay. In the end, the emperor's obsession with the pyramid consumed him, and he was buried inside it, surrounded by the skulls of his victims. The Solar Empire collapsed, and a new era began. But the pyramid of skulls remained, a haunting reminder of the madness that had consumed the empire.\n"
          ]
        }
      ]
    },
    {
      "cell_type": "code",
      "source": [
        "stories"
      ],
      "metadata": {
        "colab": {
          "base_uri": "https://localhost:8080/"
        },
        "id": "eRFEemN7slqG",
        "outputId": "70a57c50-6d19-4d95-affe-95fb831ffb13"
      },
      "execution_count": null,
      "outputs": [
        {
          "output_type": "execute_result",
          "data": {
            "text/plain": [
              "[{'Theme': 'Abuse of power',\n",
              "  'Topic': 'The Last Days of the Solar Empire: A tale of a dying empire ruled by a mad emperor who uses his power to build a pyramid of skulls',\n",
              "  'Story': \"In the final days of the Solar Empire, a mad emperor ruled with an iron fist. His power was unmatched, and his people lived in fear of his wrath. The emperor was obsessed with the idea of building a pyramid of skulls, a monument to his own greatness. He believed that the pyramid would grant him immortality, and he spared no expense in its construction.\\n\\nThe empire was in decline, and the people suffered under the emperor's rule. They were forced to work long hours, and their meager wages were barely enough to sustain them. The emperor cared little for their suffering, and he taxed them heavily to fund his grand project. As the pyramid rose higher and higher, the people grew more and more desperate. They knew that the emperor's madness would be their downfall, and they longed for the day when he would be overthrown. But the emperor's grip on power was too strong, and it seemed that he would never be defeated. The pyramid of skulls stood as a symbol of the empire's decay, a monument to the emperor's madness and the people's suffering.\"}]"
            ]
          },
          "metadata": {},
          "execution_count": 20
        }
      ]
    },
    {
      "cell_type": "code",
      "source": [],
      "metadata": {
        "id": "azBsDH7DtSzX"
      },
      "execution_count": null,
      "outputs": []
    }
  ]
}